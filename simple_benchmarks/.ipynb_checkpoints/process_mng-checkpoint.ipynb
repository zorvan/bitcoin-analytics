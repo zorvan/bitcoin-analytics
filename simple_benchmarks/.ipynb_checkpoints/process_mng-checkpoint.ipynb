{
 "cells": [
  {
   "cell_type": "code",
   "execution_count": 2,
   "metadata": {},
   "outputs": [
    {
     "name": "stdout",
     "output_type": "stream",
     "text": [
      "[\"b'bench.ipynb\",\n",
      " 'faracloud_stats.py',\n",
      " 'geo_ping.ipynb',\n",
      " 'micro_process.ipynb',\n",
      " 'micro_process.py',\n",
      " 'nohup.out',\n",
      " 'ping_service.ipynb',\n",
      " 'ping_service.py',\n",
      " 'process_mng.ipynb',\n",
      " \"'\"]\n"
     ]
    }
   ],
   "source": [
    "import pprint as pp\n",
    "import subprocess \n",
    "p = subprocess.Popen(\"ls\", shell=True, stdout=subprocess.PIPE)\n",
    "output = p.stdout.read()\n",
    "pp.pprint (str(output).split('\\\\n'))"
   ]
  },
  {
   "cell_type": "code",
   "execution_count": 79,
   "metadata": {},
   "outputs": [],
   "source": [
    "# p = subprocess.Popen(\"python3 micro_process.py\", shell=True)\n",
    "# p.kill()\n"
   ]
  },
  {
   "cell_type": "code",
   "execution_count": 7,
   "metadata": {},
   "outputs": [
    {
     "name": "stdout",
     "output_type": "stream",
     "text": [
      "[\"b'root       627  0.0  1.0 749828 41712 ?        Ssl  Apr15   0:06 \"\n",
      " '/root/anaconda3/bin/python3 -m ipykernel -f '\n",
      " '/root/.local/share/jupyter/runtime/kernel-52c6f767-3227-4cee-9c33-42a2f5a0523b.json',\n",
      " 'root      8678  0.1  0.6 611940 25444 ?        Sl   Mar30  26:06 '\n",
      " '/root/anaconda3/bin/python3 faracloud_stats.py',\n",
      " 'root      9998  0.3  1.0 1173780 42392 ?       Ssl  03:14   0:02 '\n",
      " '/root/anaconda3/bin/python3 -m ipykernel -f '\n",
      " '/root/.local/share/jupyter/runtime/kernel-851b4bcb-0022-46c0-9627-6ec253ffd87b.json',\n",
      " 'root     10013  0.2  1.0 750240 42688 ?        Ssl  03:14   0:01 '\n",
      " '/root/anaconda3/bin/python3 -m ipykernel -f '\n",
      " '/root/.local/share/jupyter/runtime/kernel-ca80b38d-da8e-410c-b4d8-78dd598b951f.json',\n",
      " 'root     10181  0.0  0.0 106076  1272 ?        S    03:24   0:00 /bin/sh -c '\n",
      " 'ps -aux |grep anaconda3',\n",
      " 'root     10183  0.0  0.0 103324   864 ?        S    03:24   0:00 grep '\n",
      " 'anaconda3',\n",
      " 'root     16224  0.0  0.2 238696  8824 ?        S    Mar26   6:48 '\n",
      " '/root/anaconda3/bin/python3 simple_benchmarks/ping_service.py',\n",
      " 'root     19190  0.0  1.5 550316 62120 ?        Sl   Mar30   5:49 '\n",
      " '/root/anaconda3/bin/python3 explorer_v4.py',\n",
      " 'root     20483  1.3  1.4 513504 60212 ?        S    Mar28 349:07 '\n",
      " '/root/anaconda3/bin/python3 peer_collection.py',\n",
      " 'root     25422  0.0  1.2 448196 52412 ?        Sl   Apr14   1:14 '\n",
      " './anaconda3/bin/python3 ./anaconda3/bin/jupyter-notebook --allow-root',\n",
      " 'root     25466  0.0  2.5 1205612 102652 ?      Ssl  Apr14   0:53 '\n",
      " '/root/anaconda3/bin/python3 -m ipykernel -f '\n",
      " '/root/.local/share/jupyter/runtime/kernel-b90dfa69-23c9-4e2d-bbbf-00ad7c11ff6d.json',\n",
      " \"'\"]\n"
     ]
    }
   ],
   "source": [
    "p2 = subprocess.Popen(\"ps -aux |grep acan\", shell=True, stdout=subprocess.PIPE)\n",
    "output = p2.stdout.read()\n",
    "pp.pprint (str(output).split('\\\\n'))\n"
   ]
  },
  {
   "cell_type": "code",
   "execution_count": 55,
   "metadata": {},
   "outputs": [
    {
     "name": "stdout",
     "output_type": "stream",
     "text": [
      "[\"b''\"]\n"
     ]
    }
   ],
   "source": [
    "p2 = subprocess.Popen(\"sudo killall micro_process\", shell=True, stdout=subprocess.PIPE)\n",
    "output = p2.stdout.read()\n",
    "pp.pprint (str(output).split('\\\\n'))\n"
   ]
  },
  {
   "cell_type": "code",
   "execution_count": 81,
   "metadata": {},
   "outputs": [
    {
     "name": "stdout",
     "output_type": "stream",
     "text": [
      "3662 b'python3\\x00micro_process.py\\x00'\n",
      "[\"b''\"]\n",
      "3661 b'python3\\x00micro_process.py\\x00'\n",
      "[\"b''\"]\n",
      "3659 b'python3\\x00micro_process.py\\x00'\n",
      "[\"b''\"]\n"
     ]
    }
   ],
   "source": [
    "from subprocess import check_output\n",
    "def get_pid(name):\n",
    "    return check_output([\"pidof\",name])\n",
    "\n",
    "for i in str(get_pid(\"python3\")).split(\" \"):\n",
    "    output =str(subprocess.Popen(\"cat /proc/{}/cmdline\".format(i), shell=True, stdout=subprocess.PIPE).stdout.read())\n",
    "    if \"micro_\" in output:\n",
    "        print (i, output)\n",
    "        p2 = subprocess.Popen(\"sudo kill -9 \" + i, shell=True, stdout=subprocess.PIPE)\n",
    "        output = p2.stdout.read()\n",
    "        pp.pprint (str(output).split('\\\\n'))\n",
    "    "
   ]
  }
 ],
 "metadata": {
  "kernelspec": {
   "display_name": "Python 3",
   "language": "python",
   "name": "python3"
  },
  "language_info": {
   "codemirror_mode": {
    "name": "ipython",
    "version": 3
   },
   "file_extension": ".py",
   "mimetype": "text/x-python",
   "name": "python",
   "nbconvert_exporter": "python",
   "pygments_lexer": "ipython3",
   "version": "3.6.0"
  }
 },
 "nbformat": 4,
 "nbformat_minor": 2
}
