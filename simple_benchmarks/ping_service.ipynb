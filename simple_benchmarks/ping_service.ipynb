{
 "cells": [
  {
   "cell_type": "code",
   "execution_count": 6,
   "metadata": {},
   "outputs": [
    {
     "name": "stderr",
     "output_type": "stream",
     "text": [
      " * Running on http://0.0.0.0:8001/ (Press CTRL+C to quit)\n",
      "5.73.11.145 - - [25/Mar/2018 06:13:22] \"GET /http/google.com HTTP/1.1\" 200 -\n",
      "5.73.11.145 - - [25/Mar/2018 06:13:27] \"GET /http/occc.ir HTTP/1.1\" 200 -\n",
      "5.73.11.145 - - [25/Mar/2018 06:13:38] \"GET /http/targoman.ir HTTP/1.1\" 200 -\n"
     ]
    }
   ],
   "source": [
    "from flask import Flask, request\n",
    "import requests, json\n",
    "import subprocess as sp\n",
    "import time\n",
    "try:\n",
    "    import urllib.request as urllib2\n",
    "    from urllib.request import Request\n",
    "except ImportError:\n",
    "    import urllib2\n",
    "\n",
    "    \n",
    "app = Flask(__name__)\n",
    "\n",
    "@app.route('/')\n",
    "def hello_world():\n",
    "    return \"Hello World!\"\n",
    "\n",
    "@app.route('/http/<url>')\n",
    "def check_site(url):\n",
    "    if (\"http\" not in url):\n",
    "        url = \"http://\" + url\n",
    "            \n",
    "    try:\n",
    "        http_time = time.time()\n",
    "        req = urllib2.Request(url,headers={'User-Agent': 'Mozilla/5.0'})\n",
    "        response = urllib2.urlopen(req, timeout=2)\n",
    "        http_time = time.time() - http_time\n",
    "        \n",
    "        return(\"UP:\"+str(http_time))\n",
    "    except Exception as e:\n",
    "        return (\"ERR!\" + str(e))\n",
    "    \n",
    "@app.route('/ping/<ip>')\n",
    "def ping(ip):\n",
    "    ping_time = time.time()\n",
    "    status,result = sp.getstatusoutput(\"ping -c1 -w2 \" + ip)\n",
    "    ping_time = time.time() - ping_time\n",
    "\n",
    "    if status == 0: \n",
    "        return(\"UP:\" + str(ping_time))\n",
    "    else:\n",
    "        return(\"DOWN!\")\n",
    "    \n",
    "@app.route('/dns/<host>')\n",
    "def dns(host):\n",
    "    dns_time = time.time()\n",
    "    status,result = sp.getstatusoutput(\"host \" + host)\n",
    "    dns_time = time.time() - dns_time\n",
    "\n",
    "    if status == 0: \n",
    "        return(\"UP:\" + str(dns_time))\n",
    "    else:\n",
    "        return(\"NOT_RESOLVED!\")\n",
    "    \n",
    "    \n",
    "app.run(host=\"0.0.0.0\", port=\"8001\")"
   ]
  }
 ],
 "metadata": {
  "kernelspec": {
   "display_name": "Python 3",
   "language": "python",
   "name": "python3"
  },
  "language_info": {
   "codemirror_mode": {
    "name": "ipython",
    "version": 3
   },
   "file_extension": ".py",
   "mimetype": "text/x-python",
   "name": "python",
   "nbconvert_exporter": "python",
   "pygments_lexer": "ipython3",
   "version": "3.6.0"
  }
 },
 "nbformat": 4,
 "nbformat_minor": 2
}
