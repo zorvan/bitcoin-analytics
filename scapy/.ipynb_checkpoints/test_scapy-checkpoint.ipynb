{
 "cells": [
  {
   "cell_type": "code",
   "execution_count": 1,
   "metadata": {},
   "outputs": [
    {
     "name": "stderr",
     "output_type": "stream",
     "text": [
      "WARNING: No route found for IPv6 destination :: (no default route?). This affects only IPv6\n"
     ]
    }
   ],
   "source": [
    "# https://en.bitcoin.it/wiki/Protocol_documentation\n",
    "\n",
    "# from scapy import *\n",
    "from scapy.all import *\n",
    "import pprint as pp"
   ]
  },
  {
   "cell_type": "code",
   "execution_count": 2,
   "metadata": {},
   "outputs": [],
   "source": [
    "p=sniff(count=10000, filter=\"tcp port 8333\")\n",
    "# p=sniff(count=1000, filter=\"tcp port 8333 and dst host 178.162.214.41\")\n",
    "# p2=sniff(count=100, filter=\"tcp port 8333 and dst host 178.162.214.41\", lfilter = lambda x: len(x)>150 )"
   ]
  },
  {
   "cell_type": "code",
   "execution_count": 22,
   "metadata": {
    "scrolled": true
   },
   "outputs": [
    {
     "data": {
      "text/plain": [
       "{'111.37.28.182',\n",
       " '111.6.90.202',\n",
       " '112.51.55.142',\n",
       " '115.219.3.14',\n",
       " '115.219.7.163',\n",
       " '115.219.7.214',\n",
       " '117.80.182.126',\n",
       " '121.228.106.64',\n",
       " '122.227.1.122',\n",
       " '123.174.106.58',\n",
       " '128.235.40.191',\n",
       " '129.13.252.36',\n",
       " '129.13.252.47',\n",
       " '129.13.72.197',\n",
       " '13.125.159.20',\n",
       " '136.243.139.120',\n",
       " '136.243.139.96',\n",
       " '138.197.97.88',\n",
       " '146.169.45.68',\n",
       " '151.62.193.85',\n",
       " '151.80.36.205',\n",
       " '159.89.156.60',\n",
       " '173.255.251.118',\n",
       " '178.124.197.101',\n",
       " '178.162.214.41',\n",
       " '178.33.24.77',\n",
       " '180.100.251.10',\n",
       " '180.106.133.210',\n",
       " '180.108.57.145',\n",
       " '185.230.125.47',\n",
       " '195.154.164.46',\n",
       " '206.125.84.244',\n",
       " '207.154.234.187',\n",
       " '209.250.232.222',\n",
       " '218.76.142.106',\n",
       " '220.203.63.51',\n",
       " '220.233.138.130',\n",
       " '221.195.81.109',\n",
       " '221.231.105.13',\n",
       " '23.233.52.105',\n",
       " '23.92.36.16',\n",
       " '23.92.36.2',\n",
       " '23.92.36.25',\n",
       " '23.92.36.56',\n",
       " '27.188.225.80',\n",
       " '34.194.208.92',\n",
       " '34.212.60.74',\n",
       " '35.197.10.26',\n",
       " '36.251.152.131',\n",
       " '45.32.5.47',\n",
       " '46.101.246.115',\n",
       " '46.227.176.197',\n",
       " '46.38.245.95',\n",
       " '47.90.4.203',\n",
       " '49.64.33.117',\n",
       " '54.212.243.152',\n",
       " '54.248.136.176',\n",
       " '54.90.249.112',\n",
       " '54.91.130.73',\n",
       " '61.69.246.215',\n",
       " '68.148.107.148',\n",
       " '68.199.188.205',\n",
       " '73.208.13.118',\n",
       " '73.97.176.92',\n",
       " '75.98.155.228',\n",
       " '80.101.96.145',\n",
       " '81.7.10.238',\n",
       " '82.130.103.18',\n",
       " '84.115.253.70',\n",
       " '88.99.186.25',\n",
       " '90.74.201.2',\n",
       " '93.186.55.146',\n",
       " '93.81.125.96'}"
      ]
     },
     "execution_count": 22,
     "metadata": {},
     "output_type": "execute_result"
    }
   ],
   "source": [
    "# p2 = [packet for packet in p if len(packet)>300]\n",
    "# len(p2)\n",
    "\n",
    "ip_list = []\n",
    "for packet in p:\n",
    "    ip_list.append(packet[IP].src)\n",
    "\n",
    "len(set(ip_list))\n",
    "set(ip_list)\n"
   ]
  },
  {
   "cell_type": "code",
   "execution_count": 23,
   "metadata": {
    "scrolled": true
   },
   "outputs": [
    {
     "name": "stdout",
     "output_type": "stream",
     "text": [
      "11 \t 129.13.252.36\n",
      "55 \t 73.208.13.118\n",
      "32 \t 180.106.133.210\n",
      "47 \t 121.228.106.64\n",
      "53 \t 173.255.251.118\n",
      "57 \t 68.148.107.148\n",
      "46 \t 80.101.96.145\n",
      "69 \t 180.100.251.10\n",
      "10 \t 23.92.36.56\n",
      "46 \t 180.108.57.145\n",
      "70 \t 178.33.24.77\n",
      "63 \t 206.125.84.244\n",
      "10 \t 136.243.139.120\n",
      "68 \t 34.194.208.92\n",
      "56 \t 138.197.97.88\n",
      "11 \t 159.89.156.60\n",
      "76 \t 49.64.33.117\n",
      "52 \t 23.233.52.105\n",
      "48 \t 111.6.90.202\n",
      "60 \t 115.219.7.163\n",
      "55 \t 115.219.3.14\n",
      "44 \t 46.38.245.95\n",
      "54 \t 54.91.130.73\n",
      "52 \t 68.199.188.205\n",
      "48 \t 34.212.60.74\n",
      "57 \t 90.74.201.2\n",
      "49 \t 117.80.182.126\n",
      "53 \t 36.251.152.131\n",
      "4 \t 82.130.103.18\n",
      "71 \t 75.98.155.228\n",
      "50 \t 218.76.142.106\n",
      "40 \t 54.90.249.112\n",
      "138 \t 221.231.105.13\n",
      "49 \t 81.7.10.238\n",
      "51 \t 13.125.159.20\n",
      "11 \t 46.101.246.115\n",
      "71 \t 122.227.1.122\n",
      "4 \t 129.13.72.197\n",
      "10 \t 129.13.252.47\n",
      "6209 \t 178.162.214.41\n",
      "123 \t 112.51.55.142\n",
      "71 \t 93.81.125.96\n",
      "60 \t 207.154.234.187\n",
      "28 \t 54.248.136.176\n",
      "49 \t 88.99.186.25\n",
      "65 \t 93.186.55.146\n",
      "56 \t 220.233.138.130\n",
      "69 \t 178.124.197.101\n",
      "64 \t 185.230.125.47\n",
      "70 \t 123.174.106.58\n",
      "36 \t 151.80.36.205\n",
      "83 \t 151.62.193.85\n",
      "52 \t 27.188.225.80\n",
      "73 \t 84.115.253.70\n",
      "8 \t 47.90.4.203\n",
      "3 \t 54.212.243.152\n",
      "419 \t 73.97.176.92\n",
      "4 \t 136.243.139.96\n",
      "131 \t 221.195.81.109\n",
      "42 \t 45.32.5.47\n",
      "7 \t 128.235.40.191\n",
      "54 \t 46.227.176.197\n",
      "77 \t 209.250.232.222\n",
      "10 \t 23.92.36.2\n",
      "1 \t 35.197.10.26\n",
      "36 \t 220.203.63.51\n",
      "49 \t 61.69.246.215\n",
      "61 \t 195.154.164.46\n",
      "11 \t 23.92.36.25\n",
      "6 \t 23.92.36.16\n",
      "6 \t 146.169.45.68\n",
      "42 \t 115.219.7.214\n",
      "74 \t 111.37.28.182\n"
     ]
    }
   ],
   "source": [
    "for ip in set(ip_list):\n",
    "    print(len(p.filter(lambda x: x[IP].src==ip)),\"\\t\",ip)\n"
   ]
  },
  {
   "cell_type": "code",
   "execution_count": 2,
   "metadata": {
    "scrolled": true
   },
   "outputs": [],
   "source": [
    "# [len(x) for x in p2]\n",
    "\n",
    "# wrpcap('filtered_100_filtered.pcap', p2)\n",
    "p = rdpcap('filtered_1000.pcap')"
   ]
  },
  {
   "cell_type": "code",
   "execution_count": 3,
   "metadata": {},
   "outputs": [
    {
     "data": {
      "text/plain": [
       "'0100000004d6da8159fd9a0357b7333fd7da5eb3c1af711b8616ee43a8e9526ce616f16f2c020000006b483045022100faafb340562401d11eabbaa48c106ce4200f3f2afff63e86efdff7c2a21c59060220451590e285c790525c008ea6c55ffa77832f9936f20b3ddc3cfa41f15f204dc40121037acf0faaf8e965089fff7717f60bdd3d5c997add3c723d8766d21ca11535552bffffffffd6da8159fd9a0357b7333fd7da5eb3c1af711b8616ee43a8e9526ce616f16f2c080000006b483045022100af366aebc4453e315c3ad500ff1c3cd98f719ee82dcabcb8d74b0122efd6ee0302203a885d8d4ece161a77a165e8a2d35f0f9b27a539a9b8d67eb37ce58fa50473050121027ece661947065dee93e6b55f81edaba84df9584264d92c5453ef20968585c396ffffffff6759c05cb7037639571da2db38b02462540749641b391a716df4e8100649bd2e010000006b4830450221009a84fcc914559ff6bcafc33fc551a9835f501eaa9bfce6a3b4c815f3607a1bec022053d4fe6317d7fe2798b3675830a3859d9c60c4c6e8b1504a9e12d40199a9b5560121027ece661947065dee93e6b55f81edaba84df9584264d92c5453ef20968585c396ffffffff108a09e0b63fc4016c74d321f597e878f88a24d9dd36c5e241636bd8d0e94af70c0000006b483045022100af3ae704e5e511ddb5690286b9ce439415ed574df940346cef9ea94376587535022067099835013e355cd3b489f4e4405e7d8f4fa789a773080cefeee0332d1bef410121037acf0faaf8e965089fff7717f60bdd3d5c997add3c723d8766d21ca11535552bffffffff0128af7d0a000000001976a914456e0ec8f6c969422f56b71ac2498fa5130c752788ac00000000'"
      ]
     },
     "execution_count": 3,
     "metadata": {},
     "output_type": "execute_result"
    }
   ],
   "source": [
    "# p[698].show()\n",
    "packet_bytes = p[697][Raw].load\n",
    "(packet_bytes).hex()\n",
    "\n",
    "# check output with   https://live.blockcypher.com/btc/decodetx/"
   ]
  },
  {
   "cell_type": "code",
   "execution_count": 5,
   "metadata": {
    "scrolled": true
   },
   "outputs": [
    {
     "data": {
      "text/plain": [
       "{'ins': [{'outpoint': {'hash': '2c6ff116e66c52e9a843ee16861b71afc1b35edad73f33b757039afd5981dad6',\n",
       "    'index': 2},\n",
       "   'script': '483045022100faafb340562401d11eabbaa48c106ce4200f3f2afff63e86efdff7c2a21c59060220451590e285c790525c008ea6c55ffa77832f9936f20b3ddc3cfa41f15f204dc40121037acf0faaf8e965089fff7717f60bdd3d5c997add3c723d8766d21ca11535552b',\n",
       "   'sequence': 4294967295},\n",
       "  {'outpoint': {'hash': '2c6ff116e66c52e9a843ee16861b71afc1b35edad73f33b757039afd5981dad6',\n",
       "    'index': 8},\n",
       "   'script': '483045022100af366aebc4453e315c3ad500ff1c3cd98f719ee82dcabcb8d74b0122efd6ee0302203a885d8d4ece161a77a165e8a2d35f0f9b27a539a9b8d67eb37ce58fa50473050121027ece661947065dee93e6b55f81edaba84df9584264d92c5453ef20968585c396',\n",
       "   'sequence': 4294967295},\n",
       "  {'outpoint': {'hash': '2ebd490610e8f46d711a391b644907546224b038dba21d57397603b75cc05967',\n",
       "    'index': 1},\n",
       "   'script': '4830450221009a84fcc914559ff6bcafc33fc551a9835f501eaa9bfce6a3b4c815f3607a1bec022053d4fe6317d7fe2798b3675830a3859d9c60c4c6e8b1504a9e12d40199a9b5560121027ece661947065dee93e6b55f81edaba84df9584264d92c5453ef20968585c396',\n",
       "   'sequence': 4294967295},\n",
       "  {'outpoint': {'hash': 'f74ae9d0d86b6341e2c536ddd9248af878e897f521d3746c01c43fb6e0098a10',\n",
       "    'index': 12},\n",
       "   'script': '483045022100af3ae704e5e511ddb5690286b9ce439415ed574df940346cef9ea94376587535022067099835013e355cd3b489f4e4405e7d8f4fa789a773080cefeee0332d1bef410121037acf0faaf8e965089fff7717f60bdd3d5c997add3c723d8766d21ca11535552b',\n",
       "   'sequence': 4294967295}],\n",
       " 'outs': [{'value': 176009000,\n",
       "   'script': '76a914456e0ec8f6c969422f56b71ac2498fa5130c752788ac'}],\n",
       " 'version': 1,\n",
       " 'locktime': 0}"
      ]
     },
     "execution_count": 5,
     "metadata": {},
     "output_type": "execute_result"
    }
   ],
   "source": [
    "from bitcoin import *\n",
    "# txh = '0100000003d5001aae8358ae98cb02c1b6f9859dc1ac3dbc1e9cc88632afeb7b7e3c510a49000000008b4830450221009e03bb6122437767e2ca785535824f4ed13d2ebbb9fa4f9becc6d6f4e1e217dc022064577353c08d8d974250143d920d3b963b463e43bbb90f3371060645c49266b90141048ef80f6bd6b073407a69299c2ba89de48adb59bb9689a5ab040befbbebcfbb15d01b006a6b825121a0d2c546c277acb60f0bd3203bd501b8d67c7dba91f27f47ffffffff1529d655dff6a0f6c9815ee835312fb3ca4df622fde21b6b9097666e9284087d010000008a473044022035dd67d18b575ebd339d05ca6ffa1d27d7549bd993aeaf430985795459fc139402201aaa162cc50181cee493870c9479b1148243a33923cb77be44a73ca554a4e5d60141048ef80f6bd6b073407a69299c2ba89de48adb59bb9689a5ab040befbbebcfbb15d01b006a6b825121a0d2c546c277acb60f0bd3203bd501b8d67c7dba91f27f47ffffffff23d5f9cf0a8c233b35443c3ae48d0bdb41bef357b8bfb972336322a34cd75c80010000008b483045022014daa5c5bbe9b3e5f2539a5cd8e22ce55bc84788f946c5b3643ecac85b4591a9022100a4062074a1df3fa0aea5ef67368d0b1f0eaac520bee6e417c682d83cd04330450141048ef80f6bd6b073407a69299c2ba89de48adb59bb9689a5ab040befbbebcfbb15d01b006a6b825121a0d2c546c277acb60f0bd3203bd501b8d67c7dba91f27f47ffffffff02204e0000000000001976a914946cb2e08075bcbaf157e47bcb67eb2b2339d24288ac5b3c4411000000001976a914a41d15ae657ad3bfd0846771a34d7584c37d54a288ac00000000'\n",
    "# txh = '02000000024658d04bac4f135d8bfef5882675fc389d2beb27f8e560fc5b48dba97c881cc0000000006b483045022100f868afab3617eb2ae6052c6a645f72f61ffd1240e5a722e219265d03adc9ae1d022074b71357aa55fe8da709374dd69955c4c227a7facf10b42795afe7136b02a68701210236e71cdb1ea767b4b92c34912242e983ad56ad8b26e6a15de148741f0d0ffb1bfeffffff997a44a122a46f37b67dd2ba1a51b7b083f841291793970e0f27a76650931105010000008b483045022100e3a367e2c5782e2ebfc6f731101068f02aa919cdc54e47c5c67bed5d19cb474d02206e55eff088c05e651cdb905c27a282251aeab1c4366467af397767d29f7bd2ec0141045257da25719fb7c66bcee2383da5391e5ace45cf58606a83e057817c93436bafd5bd91186016203f9624c2657380cd116700c6eea6d9d7babe82f601dfa3090cfeffffff0294b21100000000001976a9147cf3fdf2bcea23e15449417d852ef6efa6371a0e88ace0c80a01000000001976a914f9265a4db788140e0dcdc5c5e86510079533efe388acfbe40700'\n",
    "# txh = '010000000112c23714d5b4f126e8daa3cbf3d7653b43e00391e3d60ba3ae07bc04d572676a010000008a473044022039259f04040cd8989c6e061cecd5534e642ad617c078d30974d0d90d481e6d0802202a7799be8cace4936645edc44c316cda4df8a03b6d695123f79ee5e903509ed6014104529d65c72590ef60623b0291d4e1286ab42670c07644f8fbdb86303d51f790567e57eb523a4558aca8d7e4947eabe0178ab180cdb059e31f9af5c02278394373ffffffff02000e27070000000017a914016f4e50e915012c9b0e4420e983a43a4edba9c387b9b7620e000000001976a91405545f20c091a5618e2e5cf26aa47f0563b87d5888ac00000000'\n",
    "txh = '0100000004d6da8159fd9a0357b7333fd7da5eb3c1af711b8616ee43a8e9526ce616f16f2c020000006b483045022100faafb340562401d11eabbaa48c106ce4200f3f2afff63e86efdff7c2a21c59060220451590e285c790525c008ea6c55ffa77832f9936f20b3ddc3cfa41f15f204dc40121037acf0faaf8e965089fff7717f60bdd3d5c997add3c723d8766d21ca11535552bffffffffd6da8159fd9a0357b7333fd7da5eb3c1af711b8616ee43a8e9526ce616f16f2c080000006b483045022100af366aebc4453e315c3ad500ff1c3cd98f719ee82dcabcb8d74b0122efd6ee0302203a885d8d4ece161a77a165e8a2d35f0f9b27a539a9b8d67eb37ce58fa50473050121027ece661947065dee93e6b55f81edaba84df9584264d92c5453ef20968585c396ffffffff6759c05cb7037639571da2db38b02462540749641b391a716df4e8100649bd2e010000006b4830450221009a84fcc914559ff6bcafc33fc551a9835f501eaa9bfce6a3b4c815f3607a1bec022053d4fe6317d7fe2798b3675830a3859d9c60c4c6e8b1504a9e12d40199a9b5560121027ece661947065dee93e6b55f81edaba84df9584264d92c5453ef20968585c396ffffffff108a09e0b63fc4016c74d321f597e878f88a24d9dd36c5e241636bd8d0e94af70c0000006b483045022100af3ae704e5e511ddb5690286b9ce439415ed574df940346cef9ea94376587535022067099835013e355cd3b489f4e4405e7d8f4fa789a773080cefeee0332d1bef410121037acf0faaf8e965089fff7717f60bdd3d5c997add3c723d8766d21ca11535552bffffffff0128af7d0a000000001976a914456e0ec8f6c969422f56b71ac2498fa5130c752788ac00000000'\n",
    "\n",
    "# txo = deserialize(txh)\n",
    "txo = deserialize(packet_bytes.hex())\n",
    "txo"
   ]
  },
  {
   "cell_type": "code",
   "execution_count": null,
   "metadata": {},
   "outputs": [],
   "source": []
  }
 ],
 "metadata": {
  "kernelspec": {
   "display_name": "Python 3",
   "language": "python",
   "name": "python3"
  },
  "language_info": {
   "codemirror_mode": {
    "name": "ipython",
    "version": 3
   },
   "file_extension": ".py",
   "mimetype": "text/x-python",
   "name": "python",
   "nbconvert_exporter": "python",
   "pygments_lexer": "ipython3",
   "version": "3.6.0"
  }
 },
 "nbformat": 4,
 "nbformat_minor": 2
}
