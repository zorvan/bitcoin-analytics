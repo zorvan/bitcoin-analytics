{
 "cells": [
  {
   "cell_type": "code",
   "execution_count": 324,
   "metadata": {},
   "outputs": [],
   "source": [
    "# https://en.bitcoin.it/wiki/Protocol_documentation\n",
    "\n",
    "# from scapy import *\n",
    "from scapy.all import *\n",
    "import cryptos as crypts\n",
    "import pprint as pp\n",
    "import json as js"
   ]
  },
  {
   "cell_type": "code",
   "execution_count": 485,
   "metadata": {},
   "outputs": [],
   "source": [
    "#p=sniff(count=10000, filter=\"tcp port 8333\")\n",
    "#p=sniff(count=1000, filter=\"tcp port 8333 and dst host 178.162.214.41\")\n",
    "p=sniff(count   = 100, \n",
    "        filter  = \"tcp port 8333 and dst host 178.162.214.41\", \n",
    "        lfilter = lambda x: ((Raw in x) and x[Raw].load.hex().find('f9beb4d97478') > -1))\n",
    "        #x[IP].frag > 0 or x[IP].flags == 1)"
   ]
  },
  {
   "cell_type": "code",
   "execution_count": null,
   "metadata": {
    "scrolled": true
   },
   "outputs": [],
   "source": [
    "# p2 = [packet for packet in p if len(packet)>300]\n",
    "# len(p2)\n",
    "ip_list = []\n",
    "for packet in p:\n",
    "    ip_list.append(packet[IP].src)\n",
    "\n",
    "lot = []\n",
    "for ip in set(ip_list):\n",
    "    lot.append((len(p.filter(lambda x: x[IP].src==ip)),ip))\n",
    "    \n",
    "sorted(lot, key=lambda freq: freq[0], reverse=True)"
   ]
  },
  {
   "cell_type": "markdown",
   "metadata": {},
   "source": [
    "## تلاش خودم برای تشخیص محتوای تراکنش خام"
   ]
  },
  {
   "cell_type": "code",
   "execution_count": 572,
   "metadata": {},
   "outputs": [],
   "source": [
    "# https://en.bitcoin.it/wiki/Protocol_documentation#tx\n",
    "# https://www.savvius.com/networking-glossary/tcp_ip_overview/ip/ip_fragmentation/\n",
    "def get_flags (packet):\n",
    "    if (packet[IP].flags == 2) :\n",
    "        print (\"Don't Fragment\")\n",
    "    elif (packet[IP].flags == 0):\n",
    "        print (\"More Fragment\")\n",
    "    elif (packet[IP].flags == 1):\n",
    "        print (\"Last Fragment\")\n",
    "    return\n",
    "\n",
    "def get_command (packet):\n",
    "    return (packet[Raw].load[4:16]).decode('ascii').replace('\\x00',\"\")\n",
    "\n",
    "def get_len (packet):\n",
    "    return int(struct.unpack(\"4s\",(packet[Raw].load)[16:20][::-1])[0].hex(),16)\n",
    "\n",
    "def get_verwit(packet):\n",
    "    version = packet[Raw].load[24:28].hex()\n",
    "    witness = '0001' if(packet[Raw].load[28:30].hex()=='0001') else 'No Witness'\n",
    "    return (version,witness)\n",
    "\n",
    "def get_insnum (packet):\n",
    "    input_num = int(packet[Raw].load[30:31].hex(),16)\n",
    "    return input_num\n",
    "\n",
    "def get_ins (packet):\n",
    "    input_num = get_insnum(packet)\n",
    "    print ('Number of Inputs = ',input_num)\n",
    "    offset = 0;\n",
    "    while (input_num > 0):\n",
    "        print('Input Num.',input_num)\n",
    "        prev_out   = packet[Raw].load[offset+31:offset+63].hex()\n",
    "        prev_index = packet[Raw].load[offset+63:offset+67].hex()\n",
    "        print ('Previous Output = ',prev_out)\n",
    "        print ('Previous Output index = ',prev_index)\n",
    "        script_len = int(packet[Raw].load[offset+67:offset+68].hex(),16)\n",
    "        script     = packet[Raw].load[offset+68:offset+68+script_len].hex()\n",
    "        print ('Script = ',script)\n",
    "        if  (packet[Raw].load[offset+68+script_len:offset+68+script_len+4].hex() != 'ffffffff'):\n",
    "            print ('Something is Wrong!')\n",
    "            return\n",
    "        input_num -= 1\n",
    "        offset += 41 + script_len\n",
    "    return offset\n",
    "\n",
    "def get_outs (packet,offset):\n",
    "    output_num = int(packet[Raw].load[offset:offset+1].hex(),16)\n",
    "    print ('Number of outputs = ',output_num)\n",
    "    while (input_num > 0):\n",
    "        print('Input Num.',input_num)\n",
    "        prev_out   = packet[Raw].load[offset+31:offset+63].hex()\n",
    "        prev_index = packet[Raw].load[offset+63:offset+67].hex()\n",
    "        print ('Previous Output = ',prev_out)\n",
    "        print ('Previous Output index = ',prev_index)\n",
    "        script_len = int(packet[Raw].load[offset+67:offset+68].hex(),16)\n",
    "        script     = packet[Raw].load[offset+68:offset+68+script_len].hex()\n",
    "        print ('Script = ',script)\n",
    "        if  (packet[Raw].load[offset+68+script_len:offset+68+script_len+4].hex() != 'ffffffff'):\n",
    "            print ('Something is Wrong!')\n",
    "            return\n",
    "        input_num -= 1\n",
    "        offset += 41 + script_len\n",
    "    return offset"
   ]
  },
  {
   "cell_type": "markdown",
   "metadata": {},
   "source": [
    "## یک بسته اترنت را گرفته و دیکد می کند"
   ]
  },
  {
   "cell_type": "code",
   "execution_count": 555,
   "metadata": {},
   "outputs": [],
   "source": [
    "def DecodeTx (packet):\n",
    "    if (len(packet[Raw].load) > 24):\n",
    "        if(packet[Raw].load.hex()[0:12] == 'f9beb4d97478'):\n",
    "            return crypts.deserialize(packet[Raw].load.hex()[48:])\n",
    "        elif(packet[Raw].load.hex()[:8] in ['01000000','02000000']):\n",
    "            return crypts.deserialize(packet[Raw].load.hex())\n",
    "        else:\n",
    "            return 0\n",
    "    else:\n",
    "        return  0"
   ]
  },
  {
   "cell_type": "code",
   "execution_count": 487,
   "metadata": {},
   "outputs": [
    {
     "data": {
      "text/plain": [
       "{'ins': [{'outpoint': {'hash': '46656830db07301add52b32532fe974776bf616b50b30061bd3d8431bf1744fb',\n",
       "    'index': 0},\n",
       "   'script': '4730440220128a1214dcaca53f3944214635265212ed90c5bfcb195b0b64900dec19cb1c7f02203fc7e6a6075973e27081af0eebeec0c4e1c1289ac2a3e568918d42bf90a83b0e012103ed90364e7ca14b6cb4dabdba5fea0babdc91c6b1148c04a0e9ddc86518fb391f',\n",
       "   'sequence': 4294967295}],\n",
       " 'outs': [{'value': 1230876,\n",
       "   'script': '76a914330e36debb968993f2f758f520538730539f105588ac'}],\n",
       " 'version': 1,\n",
       " 'locktime': 0}"
      ]
     },
     "execution_count": 487,
     "metadata": {},
     "output_type": "execute_result"
    }
   ],
   "source": [
    "DecodeTx(p[10])"
   ]
  },
  {
   "cell_type": "markdown",
   "metadata": {},
   "source": [
    "## محاسبه مشخصه تراکنش از روی مقدار خام آن"
   ]
  },
  {
   "cell_type": "code",
   "execution_count": 302,
   "metadata": {},
   "outputs": [],
   "source": [
    "def GetTxID (packet):\n",
    "    import hashlib,binascii\n",
    "    hash = hashlib.sha256(hashlib.sha256(binascii.unhexlify(packet[Raw].load.hex()[48:])).digest()).digest()\n",
    "    print (\"TXID: \", hash[::-1].hex())"
   ]
  },
  {
   "cell_type": "code",
   "execution_count": 486,
   "metadata": {},
   "outputs": [
    {
     "name": "stdout",
     "output_type": "stream",
     "text": [
      "TXID:  dccb0dbaf2366b38610ae5bce956057af52d437fd9bcbcab7e006f36ed11ce56\n"
     ]
    }
   ],
   "source": [
    "GetTxID(p[10])"
   ]
  },
  {
   "cell_type": "markdown",
   "metadata": {},
   "source": [
    "## محاسبه مقدار هگز یک آدرس از روی مقدار مبنای ۵۸ متداول آن"
   ]
  },
  {
   "cell_type": "code",
   "execution_count": 516,
   "metadata": {},
   "outputs": [
    {
     "data": {
      "text/plain": [
       "'00995d85003f48a4d5f4a51462adf27b6f750f57f57d11f86e'"
      ]
     },
     "execution_count": 516,
     "metadata": {},
     "output_type": "execute_result"
    }
   ],
   "source": [
    "import base58\n",
    "base58.b58decode('1EyvRCg3jUDQhRngvBYEcd5fkEtUadFrFF').hex()"
   ]
  },
  {
   "cell_type": "markdown",
   "metadata": {},
   "source": [
    "## یک بسته اترنت را گرفته و آدرس کیف پول هایی که به عنوان ورودی تراکنش شرکت دارند را بر می گرداند"
   ]
  },
  {
   "cell_type": "code",
   "execution_count": 554,
   "metadata": {},
   "outputs": [],
   "source": [
    "# مشکل آدرس های مربوط به segwit\n",
    "# https://github.com/bitcoin/bips/blob/master/bip-0142.mediawiki\n",
    "\n",
    "def ResolveOutAddr(packet,verbos):\n",
    "    import requests\n",
    "    main_url = 'http://127.0.0.1:8332/rest/'\n",
    "    decpack = DecodeTx(packet)\n",
    "    addr_val = {}\n",
    "    if (decpack):\n",
    "        tx = js.loads(js.dumps(decpack))\n",
    "        addr_val = {}\n",
    "        index = tx['ins'][0]['outpoint']['index']\n",
    "        txhash = tx['ins'][0]['outpoint']['hash']\n",
    "        url = main_url + \"tx/\" + txhash +'.json'\n",
    "        tx_response = requests.get(url)\n",
    "        result = js.loads(tx_response.content)\n",
    "        itm = result['vout']\n",
    "        if (itm[0]['n'] in [index]):\n",
    "            if(itm[0][\"scriptPubKey\"]['type'] in ['scripthash','pubkeyhash']):\n",
    "                addr_val.update({itm[0][\"scriptPubKey\"]['addresses'][0] : itm[0][\"value\"]})\n",
    "            elif(verbos):\n",
    "                print(itm[0][\"scriptPubKey\"]['type'] + '  Detected') \n",
    "    elif(verbos):\n",
    "        print(\"packet too small\")\n",
    "    return addr_val"
   ]
  },
  {
   "cell_type": "code",
   "execution_count": 563,
   "metadata": {},
   "outputs": [
    {
     "name": "stdout",
     "output_type": "stream",
     "text": [
      "4 :  {'1PzX6fCijoT8rBzzN3kZoqi7YGhTBeBEH': 2.86237975} IP =  54.90.249.112\n",
      "10 :  {'1EyvRCg3jUDQhRngvBYEcd5fkEtUadFrFF': 0.01231424} IP =  94.130.69.46\n",
      "14 :  {'1EMq5cph7qMf25vTQateKoKXu7t3VxUGxg': 2.8984958} IP =  94.130.69.46\n",
      "26 :  {'1LfV9MMw64iKtFkVHKV1RXFXNRSyCQffN9': 2.71111006} IP =  188.209.49.20\n",
      "28 :  {'1AmkxTZrggirm7FrgqN65YFLTEFw1tWg1i': 0.00388492} IP =  81.7.10.238\n",
      "30 :  {'1MbT49WAQAtQ3Df7Ei1qjfdRnzLRZuWJA3': 0.01674678} IP =  46.227.176.197\n",
      "35 :  {'12FpK4dgjkyb3HCP86GgAUXDe3EFh4MXgL': 2.66045046} IP =  75.98.155.228\n",
      "68 :  {'15tD4B6CPdqBFyR6CTnwriob9u1wbGnjww': 2.65704314} IP =  151.80.36.205\n",
      "86 :  {'1Aezvp3ngBjMSukiDjumkpyZBpsbEXdB2T': 2.8984963} IP =  46.227.176.197\n",
      "97 :  {'1NHQJVSCzAhwAC3g7KrgGVLXjv2ktNs3BN': 2.91888562} IP =  178.33.24.77\n"
     ]
    }
   ],
   "source": [
    "for i in range(0,len(p)):\n",
    "    res = ResolveOutAddr(p[i],0)\n",
    "    if (res):\n",
    "        print(i,\": \",res,\"IP = \",p[i][IP].src)"
   ]
  },
  {
   "cell_type": "code",
   "execution_count": null,
   "metadata": {},
   "outputs": [],
   "source": []
  },
  {
   "cell_type": "code",
   "execution_count": null,
   "metadata": {},
   "outputs": [],
   "source": []
  },
  {
   "cell_type": "code",
   "execution_count": null,
   "metadata": {},
   "outputs": [],
   "source": []
  },
  {
   "cell_type": "code",
   "execution_count": null,
   "metadata": {},
   "outputs": [],
   "source": []
  },
  {
   "cell_type": "code",
   "execution_count": 289,
   "metadata": {},
   "outputs": [],
   "source": []
  },
  {
   "cell_type": "code",
   "execution_count": null,
   "metadata": {},
   "outputs": [],
   "source": []
  }
 ],
 "metadata": {
  "kernelspec": {
   "display_name": "Python 3",
   "language": "python",
   "name": "python3"
  },
  "language_info": {
   "codemirror_mode": {
    "name": "ipython",
    "version": 3
   },
   "file_extension": ".py",
   "mimetype": "text/x-python",
   "name": "python",
   "nbconvert_exporter": "python",
   "pygments_lexer": "ipython3",
   "version": "3.6.0"
  }
 },
 "nbformat": 4,
 "nbformat_minor": 2
}
