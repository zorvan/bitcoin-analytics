{
 "cells": [
  {
   "cell_type": "code",
   "execution_count": 34,
   "metadata": {},
   "outputs": [],
   "source": [
    "# https://en.bitcoin.it/wiki/Protocol_documentation\n",
    "from scapy.all import *\n",
    "from pprint import pprint\n",
    "\n",
    "\n",
    "\n",
    "def pkt_callback(packet):\n",
    "    global dic\n",
    "    src = packet[IP].src\n",
    "    if src in dic.keys():\n",
    "        dic[src] += 1\n",
    "    else:\n",
    "        dic[src] = 1\n"
   ]
  },
  {
   "cell_type": "code",
   "execution_count": 65,
   "metadata": {},
   "outputs": [
    {
     "name": "stdout",
     "output_type": "stream",
     "text": [
      "{'81.91.136.82': 101, '178.162.214.41': 117, '31.184.132.138': 17, '127.0.0.1': 764, '39.135.17.39': 1}\r"
     ]
    }
   ],
   "source": [
    "# from pprint import pprint\n",
    "dic = {}\n",
    "packets = sniff(count=1)\n",
    "\n",
    "counter = 0\n",
    "while(counter<100):\n",
    "    p=sniff(count=10, filter = \"tcp\", lfilter= lambda x: x.dport not in [8333,8332] and x.sport not in [8333,8332], prn=pkt_callback)\n",
    "    print(dic, end=\"\\r\")\n",
    "    counter += 1\n",
    "    packets = packets +p\n"
   ]
  },
  {
   "cell_type": "code",
   "execution_count": 71,
   "metadata": {},
   "outputs": [
    {
     "name": "stdout",
     "output_type": "stream",
     "text": [
      "Ether / IP / TCP 31.184.132.138:58446 > 178.162.214.41:vcom_tunnel S\n",
      "Ether / IP / TCP 31.184.132.138:58446 > 178.162.214.41:vcom_tunnel A\n",
      "Ether / IP / TCP 31.184.132.138:58446 > 178.162.214.41:vcom_tunnel PA / Raw\n",
      "Ether / IP / TCP 31.184.132.138:58449 > 178.162.214.41:vcom_tunnel S\n",
      "Ether / IP / TCP 31.184.132.138:58449 > 178.162.214.41:vcom_tunnel A\n",
      "Ether / IP / TCP 31.184.132.138:58449 > 178.162.214.41:vcom_tunnel PA / Raw\n",
      "Ether / IP / TCP 31.184.132.138:58452 > 178.162.214.41:vcom_tunnel S\n",
      "Ether / IP / TCP 31.184.132.138:58452 > 178.162.214.41:vcom_tunnel A\n",
      "Ether / IP / TCP 31.184.132.138:58452 > 178.162.214.41:vcom_tunnel PA / Raw\n",
      "Ether / IP / TCP 31.184.132.138:58452 > 178.162.214.41:vcom_tunnel A\n",
      "Ether / IP / TCP 31.184.132.138:58452 > 178.162.214.41:vcom_tunnel FA\n",
      "Ether / IP / TCP 31.184.132.138:58455 > 178.162.214.41:vcom_tunnel S\n",
      "Ether / IP / TCP 31.184.132.138:58455 > 178.162.214.41:vcom_tunnel A\n",
      "Ether / IP / TCP 31.184.132.138:58455 > 178.162.214.41:vcom_tunnel PA / Raw\n",
      "Ether / IP / TCP 31.184.132.138:58458 > 178.162.214.41:vcom_tunnel S\n",
      "Ether / IP / TCP 31.184.132.138:58458 > 178.162.214.41:vcom_tunnel A\n",
      "Ether / IP / TCP 31.184.132.138:58458 > 178.162.214.41:vcom_tunnel PA / Raw\n"
     ]
    }
   ],
   "source": [
    "packets.filter(lambda x: x[IP].src ==\"31.184.132.138\").summary()"
   ]
  }
 ],
 "metadata": {
  "kernelspec": {
   "display_name": "Python 3",
   "language": "python",
   "name": "python3"
  },
  "language_info": {
   "codemirror_mode": {
    "name": "ipython",
    "version": 3
   },
   "file_extension": ".py",
   "mimetype": "text/x-python",
   "name": "python",
   "nbconvert_exporter": "python",
   "pygments_lexer": "ipython3",
   "version": "3.6.0"
  }
 },
 "nbformat": 4,
 "nbformat_minor": 2
}
