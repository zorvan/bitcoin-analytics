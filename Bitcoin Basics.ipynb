{
 "cells": [
  {
   "cell_type": "code",
   "execution_count": null,
   "metadata": {},
   "outputs": [],
   "source": [
    "# https://en.bitcoin.it/wiki/API_reference_(JSON-RPC)#JSON-RPC\n",
    "# https://bitcoin.org/en/developer-reference\n",
    "# https://pyformat.info/\n",
    "host_url = \"http://178.162.214.41:5000\""
   ]
  },
  {
   "cell_type": "markdown",
   "metadata": {},
   "source": [
    "# Chain Info اطلاعات زنجیره"
   ]
  },
  {
   "cell_type": "code",
   "execution_count": 25,
   "metadata": {},
   "outputs": [
    {
     "name": "stdout",
     "output_type": "stream",
     "text": [
      "chain                    <class 'str'>       4____main\n",
      "blocks                   <class 'int'>       6____512411\n",
      "headers                  <class 'int'>       6____512411\n",
      "bestblockhash            <class 'str'>       64___0000000000000000005257f8e6aa2e5cdf6c497f6af86e0b46bfc339b2d7a5c6\n",
      "difficulty               <class 'float'>     17___3290605988755.001\n",
      "mediantime               <class 'int'>       10___1520416939\n",
      "verificationprogress     <class 'float'>     18___0.9999970770707629\n",
      "chainwork                <class 'str'>       64___0000000000000000000000000000000000000000013978d23e1c1d9ff3ade878\n",
      "pruned                   <class 'bool'>      5____False\n",
      "softforks                <class 'list'>      177__[{'id': 'bip34', 'version': 2, 'reject': {'status': True}}, {'id': 'bi\n",
      "bip9_softforks           <class 'dict'>      191__{'csv': {'status': 'active', 'startTime': 1462060800, 'timeout': 14935\n"
     ]
    }
   ],
   "source": [
    "import requests\n",
    "import json\n",
    "\n",
    "url = 'http://127.0.0.1:8332/rest/chaininfo.json'\n",
    "chain_response = requests.get(url)\n",
    "\n",
    "result = json.loads(chain_response.content)\n",
    "for key, value in result.items():\n",
    "     print('{:25}{:20}{:_<5}{}'.format(key, str(type(value)), len(str(value)), str(value)[:70]))"
   ]
  },
  {
   "cell_type": "markdown",
   "metadata": {},
   "source": [
    "# Reading the Blocks خواندن بلاک ها"
   ]
  },
  {
   "cell_type": "code",
   "execution_count": 23,
   "metadata": {},
   "outputs": [
    {
     "name": "stdout",
     "output_type": "stream",
     "text": [
      "hash                     <class 'str'>       64___0000000000000000023da07114323ad9676896f354951e6b563d143428b6\n",
      "confirmations            <class 'int'>       5____69055\n",
      "strippedsize             <class 'int'>       6____999864\n",
      "size                     <class 'int'>       6____999864\n",
      "weight                   <class 'int'>       7____3999456\n",
      "height                   <class 'int'>       6____443348\n",
      "version                  <class 'int'>       9____536870912\n",
      "versionHex               <class 'str'>       8____20000000\n",
      "merkleroot               <class 'str'>       64___a67dba1f776a31c1ddaf0fb037f9468303a845b03bbd2e4aeddcf9c5d3dd\n",
      "tx                       <class 'list'>      7228135[{'txid': 'f1fb649c4259f2d0e9279479253dd5b4dfc7acf45c0274e55\n",
      "time                     <class 'int'>       10___1481662934\n",
      "mediantime               <class 'int'>       10___1481658383\n",
      "nonce                    <class 'int'>       10___3368502690\n",
      "bits                     <class 'str'>       8____1803d589\n",
      "difficulty               <class 'float'>     17___286765766820.5504\n",
      "chainwork                <class 'str'>       64___0000000000000000000000000000000000000000003306c3fecd148cfdf9\n",
      "previousblockhash        <class 'str'>       64___000000000000000003b9a9c258c8f4deb08c976a0a75ec14e812edbce8d5\n",
      "nextblockhash            <class 'str'>       64___000000000000000002e8a99a62eaae5cea7de0e9c83a7f8de0365eb97cbf\n"
     ]
    }
   ],
   "source": [
    "import requests\n",
    "import json\n",
    "\n",
    "block_hash = \"0000000000000000023da07114323ad9676896f354951e6b563d143428b69c03\"\n",
    "url = 'http://127.0.0.1:8332/rest/block/'+ block_hash +'.json'\n",
    "block_response = requests.get(url)\n",
    "\n",
    "result = json.loads(block_response.content)\n",
    "for key, value in result.items():\n",
    "     print('{:25}{:20}{:_<5}{}'.format(key, str(type(value)), len(str(value)), str(value)[:60]))\n"
   ]
  },
  {
   "cell_type": "markdown",
   "metadata": {},
   "source": [
    "# Reading The Transactions خواندن تراکنش ها"
   ]
  },
  {
   "cell_type": "code",
   "execution_count": 15,
   "metadata": {},
   "outputs": [
    {
     "name": "stdout",
     "output_type": "stream",
     "text": [
      "txid                     <class 'str'>       64___12b5633bad1f9c167d523ad1aa1947b2732a865bf5414eab2f9e5ae5d5c191ba\n",
      "hash                     <class 'str'>       64___12b5633bad1f9c167d523ad1aa1947b2732a865bf5414eab2f9e5ae5d5c191ba\n",
      "version                  <class 'int'>       1____1\n",
      "size                     <class 'int'>       3____276\n",
      "vsize                    <class 'int'>       3____276\n",
      "locktime                 <class 'int'>       1____0\n",
      "vin                      <class 'list'>      443__[{'txid': '591e91f809d716912ca1d4a9295e70c3e78bab077683f79350f101da64588073', 'vout': 1, 'scriptSig': {'asm': '3045022052ffc1929a2d8bd365c6a2a4e3421711b4b1e1b8781698ca9075807b4227abcb0221009984107ddb9e3813782b095d0d84361ed4c76e5edaf6561d252ae162c2341cfb[ALL]', 'hex': '483045022052ffc1929a2d8bd365c6a2a4e3421711b4b1e1b8781698ca9075807b4227abcb0221009984107ddb9e3813782b095d0d84361ed4c76e5edaf6561d252ae162c2341cfb01'}, 'sequence': 4294967295}]\n",
      "vout                     <class 'list'>      851__[{'value': 1.0, 'n': 0, 'scriptPubKey': {'asm': '04baa9d36653155627c740b3409a734d4eaf5dcca9fb4f736622ee18efcf0aec2b758b2ec40db18fbae708f691edb2d4a2a3775eb413d16e2e3c0f8d4c69119fd1 OP_CHECKSIG', 'hex': '4104baa9d36653155627c740b3409a734d4eaf5dcca9fb4f736622ee18efcf0aec2b758b2ec40db18fbae708f691edb2d4a2a3775eb413d16e2e3c0f8d4c69119fd1ac', 'reqSigs': 1, 'type': 'pubkey', 'addresses': ['13HtsYzne8xVPdGDnmJX8gHgBZerAfJGEf']}}, {'value': 28.0, 'n': 1, 'scriptPubKey': {'asm': '0411db93e1dcdb8a016b49840f8c53bc1eb68a382e97b1482ecad7b148a6909a5cb2e0eaddfb84ccf9744464f82e160bfa9b8b64f9d4c03f999b8643f656b412a3 OP_CHECKSIG', 'hex': '410411db93e1dcdb8a016b49840f8c53bc1eb68a382e97b1482ecad7b148a6909a5cb2e0eaddfb84ccf9744464f82e160bfa9b8b64f9d4c03f999b8643f656b412a3ac', 'reqSigs': 1, 'type': 'pubkey', 'addresses': ['12cbQLTFMXRnSzktFkuoG3eHoMeFtpTu3S']}}]\n",
      "blockhash                <class 'str'>       64___00000000f46e513f038baf6f2d9a95b2a28d8a6c985bcf24b9e07f0f63a29888\n",
      "hex                      <class 'str'>       552__010000000173805864da01f15093f7837607ab8be7c3705e29a9d4a12c9116d709f8911e590100000049483045022052ffc1929a2d8bd365c6a2a4e3421711b4b1e1b8781698ca9075807b4227abcb0221009984107ddb9e3813782b095d0d84361ed4c76e5edaf6561d252ae162c2341cfb01ffffffff0200e1f50500000000434104baa9d36653155627c740b3409a734d4eaf5dcca9fb4f736622ee18efcf0aec2b758b2ec40db18fbae708f691edb2d4a2a3775eb413d16e2e3c0f8d4c69119fd1ac009ce4a60000000043410411db93e1dcdb8a016b49840f8c53bc1eb68a382e97b1482ecad7b148a6909a5cb2e0eaddfb84ccf9744464f82e160bfa9b8b64f9d4c03f999b8643f656b412a3ac00000000\n"
     ]
    }
   ],
   "source": [
    "import requests\n",
    "import json\n",
    "\n",
    "transaction_id = \"12b5633bad1f9c167d523ad1aa1947b2732a865bf5414eab2f9e5ae5d5c191ba\"\n",
    "# transaction_id = \"591e91f809d716912ca1d4a9295e70c3e78bab077683f79350f101da64588073\"\n",
    "# transaction_id = \"0e3e2357e806b6cdb1f70b54c3a3a17b6714ee1f0e68bebb44a74b1efd512098\" #coinbase\n",
    "\n",
    "url = 'http://127.0.0.1:8332/rest/tx/'+ transaction_id +'.json'\n",
    "tx_response = requests.get(url)\n",
    "\n",
    "result = json.loads(tx_response.content)\n",
    "for key, value in result.items():\n",
    "    if (key in [\"txid\",\"hash\"]):\n",
    "        print('{:25}{:20}{:_<5}{}'.format(key, str(type(value)), len(str(value)), str(value)))\n",
    "    \n",
    "#     elif (key in [\"vin\",\"vout\"] ):\n",
    "#         print(\"------ \"+ key + \" ------ \")\n",
    "#         for vin in value:\n",
    "#             for key2, value2 in vin.items():\n",
    "#                 print('{:25}{:20}{:_<5}{}'.format(key2, str(type(value2)), len(str(value2)), str(value2)[:60]))\n",
    "#         print(\"------ \"+ key + \" ------ \")\n",
    "        \n",
    "    else:\n",
    "        print('{:25}{:20}{:_<5}{}'.format(key, str(type(value)), len(str(value)), str(value)))\n",
    "    \n",
    "    "
   ]
  },
  {
   "cell_type": "code",
   "execution_count": 18,
   "metadata": {},
   "outputs": [
    {
     "name": "stdout",
     "output_type": "stream",
     "text": [
      "txid                     <class 'str'>       64___74c1a6dd6e88f73035143f8fc7420b5c395d28300a70bb35b943f7f2eddc656d\n",
      "hash                     <class 'str'>       64___74c1a6dd6e88f73035143f8fc7420b5c395d28300a70bb35b943f7f2eddc656d\n",
      "version                  <class 'int'>       1____1\n",
      "size                     <class 'int'>       3____225\n",
      "vsize                    <class 'int'>       3____225\n",
      "locktime                 <class 'int'>       1____0\n",
      "vin                      <class 'list'>      710__[{'txid': '00e45be5b605fdb2106afa4cef5992ee6d4e3724de5dc8b13e729a3fc3ad4b94', 'vout': 0, 'scriptSig': {'asm': '30460221009f8aef83489d5c3524b68ddf77e8af8ceb5cba89790d31d2d2db0c80b9cbfd26022100bb2c13e15bb356a4accdd55288e8b2fd39e204a93d849ccf749eaef9d8162787[ALL] 04f9804cfb86fb17441a6562b07c4ee8f012bdb2da5be022032e4b87100350ccc7c0f4d47078b06c9d22b0ec10bdce4c590e0d01aed618987a6caa8c94d74ee6dc', 'hex': '4930460221009f8aef83489d5c3524b68ddf77e8af8ceb5cba89790d31d2d2db0c80b9cbfd26022100bb2c13e15bb356a4accdd55288e8b2fd39e204a93d849ccf749eaef9d8162787014104f9804cfb86fb17441a6562b07c4ee8f012bdb2da5be022032e4b87100350ccc7c0f4d47078b06c9d22b0ec10bdce4c590e0d01aed618987a6caa8c94d74ee6dc'}, 'sequence': 4294967295}]\n",
      "vout                     <class 'list'>      289__[{'value': 50.0, 'n': 0, 'scriptPubKey': {'asm': 'OP_DUP OP_HASH160 6934efcef36903b5b45ebd1e5f862d1b63a99fa5 OP_EQUALVERIFY OP_CHECKSIG', 'hex': '76a9146934efcef36903b5b45ebd1e5f862d1b63a99fa588ac', 'reqSigs': 1, 'type': 'pubkeyhash', 'addresses': ['1AbHNFdKJeVL8FRZyRZoiTzG9VCmzLrtvm']}}]\n",
      "blockhash                <class 'str'>       64___0000000049a63b4dda3a43450c19d085d6c28bfb4cbb2e0576815d7f31919c5d\n",
      "hex                      <class 'str'>       450__0100000001944badc33f9a723eb1c85dde24374e6dee9259ef4cfa6a10b2fd05b6e55be400000000008c4930460221009f8aef83489d5c3524b68ddf77e8af8ceb5cba89790d31d2d2db0c80b9cbfd26022100bb2c13e15bb356a4accdd55288e8b2fd39e204a93d849ccf749eaef9d8162787014104f9804cfb86fb17441a6562b07c4ee8f012bdb2da5be022032e4b87100350ccc7c0f4d47078b06c9d22b0ec10bdce4c590e0d01aed618987a6caa8c94d74ee6dcffffffff0100f2052a010000001976a9146934efcef36903b5b45ebd1e5f862d1b63a99fa588ac00000000\n"
     ]
    }
   ],
   "source": [
    "import requests\n",
    "import json\n",
    "\n",
    "# transaction_id = \"12b5633bad1f9c167d523ad1aa1947b2732a865bf5414eab2f9e5ae5d5c191ba\"\n",
    "transaction_id = \"74c1a6dd6e88f73035143f8fc7420b5c395d28300a70bb35b943f7f2eddc656d\"\n",
    "# transaction_id = \"0e3e2357e806b6cdb1f70b54c3a3a17b6714ee1f0e68bebb44a74b1efd512098\" #coinbase\n",
    "\n",
    "url = 'http://127.0.0.1:8332/rest/tx/'+ transaction_id +'.json'\n",
    "tx_response = requests.get(url)\n",
    "\n",
    "result = json.loads(tx_response.content)\n",
    "for key, value in result.items():\n",
    "    if (key in [\"txid\",\"hash\"]):\n",
    "        print('{:25}{:20}{:_<5}{}'.format(key, str(type(value)), len(str(value)), str(value)))\n",
    "    \n",
    "#     elif (key in [\"vin\",\"vout\"] ):\n",
    "#         print(\"------ \"+ key + \" ------ \")\n",
    "#         for vin in value:\n",
    "#             for key2, value2 in vin.items():\n",
    "#                 print('{:25}{:20}{:_<5}{}'.format(key2, str(type(value2)), len(str(value2)), str(value2)[:60]))\n",
    "#         print(\"------ \"+ key + \" ------ \")\n",
    "        \n",
    "    else:\n",
    "        print('{:25}{:20}{:_<5}{}'.format(key, str(type(value)), len(str(value)), str(value)))\n",
    "    \n",
    "    "
   ]
  }
 ],
 "metadata": {
  "kernelspec": {
   "display_name": "Python 3",
   "language": "python",
   "name": "python3"
  },
  "language_info": {
   "codemirror_mode": {
    "name": "ipython",
    "version": 3
   },
   "file_extension": ".py",
   "mimetype": "text/x-python",
   "name": "python",
   "nbconvert_exporter": "python",
   "pygments_lexer": "ipython3",
   "version": "3.8.3"
  }
 },
 "nbformat": 4,
 "nbformat_minor": 2
}
